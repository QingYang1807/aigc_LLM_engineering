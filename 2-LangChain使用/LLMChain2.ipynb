{
 "cells": [
  {
   "cell_type": "code",
   "execution_count": 2,
   "id": "9b8b5249",
   "metadata": {},
   "outputs": [
    {
     "name": "stdout",
     "output_type": "stream",
     "text": [
      "\n",
      "\n",
      "\u001b[1m> Entering new AgentExecutor chain...\u001b[0m\n",
      "\u001b[32;1m\u001b[1;3m 我需要查找今天的日期和历史上的名人出生日期\n",
      "Action: Search\n",
      "Action Input: 今天是几月几号?历史上的今天有哪些名人出生\u001b[0m\n",
      "Observation: \u001b[36;1m\u001b[1;3m... 维基百科:历史上的今天」。 这是一份公历日期列表，共一年三百六十六天（含闰年2月29日），用于索引特定日期的历史、出生和死亡人物、节假日等信息。\u001b[0m\n",
      "Thought:\u001b[32;1m\u001b[1;3m 我现在可以查看维基百科上的信息\n",
      "Action: Search\n",
      "Action Input: 维基百科:历史上的今天\u001b[0m\n",
      "Observation: \u001b[36;1m\u001b[1;3m英國倫敦海德公園舉辦萬國工業博覽會開幕典禮，此為第一屆世界博覽會。 美國芝加哥的工人發起爭取八小時工作制的大規模罷工，其後引發乾草市場事件。 位於美國紐約曼哈頓的帝國大廈（圖）正式落成啟用，成為當時世界上最高的摩天大樓。 曾獲得三次世界冠軍的巴西一級方程式賽車車手艾尔顿·塞纳在聖馬利諾大獎賽撞上護牆逝世。\u001b[0m\n",
      "Thought:\u001b[32;1m\u001b[1;3m 我现在可以得出最终答案\n",
      "Final Answer: 今天是5月1日，历史上的今天有英國倫敦海德公園舉辦萬國工業博覽會開幕典禮、美國芝加哥的工人發起爭取八小時工作制的大規模罷工、位於美國紐約曼哈頓的帝國大廈正式落成啟用、曾獲得三次世界冠軍的巴西一級方程式賽車車手艾尔顿·塞纳在聖馬利諾大獎賽撞上護牆逝世。\u001b[0m\n",
      "\n",
      "\u001b[1m> Finished chain.\u001b[0m\n"
     ]
    },
    {
     "data": {
      "text/plain": [
       "'今天是5月1日，历史上的今天有英國倫敦海德公園舉辦萬國工業博覽會開幕典禮、美國芝加哥的工人發起爭取八小時工作制的大規模罷工、位於美國紐約曼哈頓的帝國大廈正式落成啟用、曾獲得三次世界冠軍的巴西一級方程式賽車車手艾尔顿·塞纳在聖馬利諾大獎賽撞上護牆逝世。'"
      ]
     },
     "execution_count": 2,
     "metadata": {},
     "output_type": "execute_result"
    }
   ],
   "source": [
    "import os\n",
    "from langchain.agents import load_tools\n",
    "from langchain.agents import initialize_agent\n",
    "from langchain.llms import OpenAI\n",
    "from langchain.agents import AgentType\n",
    " \n",
    "\n",
    "# 你需要在环境变量中添加 OPENAI_API_KEY 和 SERPAPI_API_KEY\n",
    "#os.environ[\"OPENAI_API_KEY\"] = '*******'\n",
    "#os.environ[\"SERPAPI_API_KEY\"] = '*******'\n",
    " \n",
    "# 加载 OpenAI 模型\n",
    "llm = OpenAI(temperature=0, max_tokens=2048)\n",
    " \n",
    "# 加载 serpapi 工具\n",
    "tools = load_tools([\"serpapi\"])\n",
    " \n",
    "\"\"\"\n",
    "agent：代理类型  \n",
    "    zero-shot-react-description: 根据工具的描述和请求内容的来决定使用哪个工具（最常用）\n",
    "    react-docstore: 使用 ReAct 框架和 docstore 交互, 使用Search 和Lookup 工具, 前者用来搜, 后者寻找term, 举例: Wipipedia 工具\n",
    "    self-ask-with-search 此代理只使用一个工具: Intermediate Answer, 它会为问题寻找事实答案(指的非 gpt 生成的答案, 而是在网络中,文本中已存在的), 如 Google search API 工具\n",
    "    conversational-react-description: 为会话设置而设计的代理, 它的prompt会被设计的具有会话性, 且还是会使用 ReAct 框架来决定使用来个工具, 并且将过往的会话交互存入内存\n",
    "\"\"\"\n",
    "# 工具加载后需要初始化，verbose=True 代表打印执行详情\n",
    "agent = initialize_agent(tools, llm, agent=AgentType.ZERO_SHOT_REACT_DESCRIPTION, verbose=True)\n",
    " \n",
    "# 运行 agent\n",
    "agent.run(\"今天是几月几号?历史上的今天有哪些名人出生\")"
   ]
  },
  {
   "cell_type": "code",
   "execution_count": null,
   "id": "f8890f6e",
   "metadata": {},
   "outputs": [],
   "source": []
  }
 ],
 "metadata": {
  "kernelspec": {
   "display_name": "Python 3 (ipykernel)",
   "language": "python",
   "name": "python3"
  },
  "language_info": {
   "codemirror_mode": {
    "name": "ipython",
    "version": 3
   },
   "file_extension": ".py",
   "mimetype": "text/x-python",
   "name": "python",
   "nbconvert_exporter": "python",
   "pygments_lexer": "ipython3",
   "version": "3.11.2"
  }
 },
 "nbformat": 4,
 "nbformat_minor": 5
}
